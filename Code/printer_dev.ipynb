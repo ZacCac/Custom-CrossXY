{
 "cells": [
  {
   "cell_type": "markdown",
   "metadata": {},
   "source": [
    "# Printer Development Documentation"
   ]
  },
  {
   "cell_type": "code",
   "execution_count": 1,
   "metadata": {},
   "outputs": [],
   "source": [
    "import numpy as np\n",
    "import matplotlib.pyplot as plt"
   ]
  },
  {
   "cell_type": "markdown",
   "metadata": {},
   "source": [
    "## Pitch Diameter\n",
    "\n",
    "To find the path of a belt around pulleys, we need to calculate the pitch diameter (PD) of the belt for an accurate CAD representation.\n",
    "\n",
    "The equation for pitch diameter is as follows: $$ PD = \\frac{pitch \\ \\cdot \\ numTeeth}{\\pi} $$\n",
    "\n",
    "where pitch is the distance between the teeth of the belt, and numTeeth is the amount of teeth on the pulley.\n",
    "\n"
   ]
  },
  {
   "cell_type": "markdown",
   "metadata": {},
   "source": [
    "\n",
    "<img src=\"images/belt_dimensions.jpg\" alt=\"Belt Dimensions\" width=\"400\">\n",
    "\n",
    "For this use case, I am using 2GT-GT3 Belts. The dimensions of the belt can be found in the table above.\n",
    "\n",
    "In addition, a 20 tooth pulley is used. Using the formula above, the PD can be calculated.\n"
   ]
  },
  {
   "cell_type": "code",
   "execution_count": 2,
   "metadata": {},
   "outputs": [
    {
     "name": "stdout",
     "output_type": "stream",
     "text": [
      "12.732395447351628\n"
     ]
    }
   ],
   "source": [
    "num_teeth = 20\n",
    "pitch = 2       # mm\n",
    "\n",
    "PD = pitch * num_teeth / np.pi\n",
    "print(PD)"
   ]
  },
  {
   "cell_type": "markdown",
   "metadata": {},
   "source": [
    "Since the table does not present values for the distances to the teeth and outer edge based on the PD, they are calculated below:"
   ]
  },
  {
   "cell_type": "code",
   "execution_count": 3,
   "metadata": {},
   "outputs": [
    {
     "name": "stdout",
     "output_type": "stream",
     "text": [
      "1.004\n",
      "0.376\n"
     ]
    }
   ],
   "source": [
    "PLD = 0.254\n",
    "i = 0.63\n",
    "h = 0.75\n",
    "\n",
    "belt_teeth_distance = PLD + h\n",
    "outer_distance = i - PLD\n",
    "\n",
    "print(belt_teeth_distance)\n",
    "print(outer_distance)"
   ]
  },
  {
   "cell_type": "markdown",
   "metadata": {},
   "source": [
    "This can be used to find the total diameter of the belt. "
   ]
  },
  {
   "cell_type": "code",
   "execution_count": 4,
   "metadata": {},
   "outputs": [
    {
     "name": "stdout",
     "output_type": "stream",
     "text": [
      "13.484395447351629\n"
     ]
    }
   ],
   "source": [
    "outer_diam = PD + 2 * outer_distance\n",
    "print(outer_diam)"
   ]
  },
  {
   "cell_type": "markdown",
   "metadata": {},
   "source": [
    "This value is important because slots to fit a belt must meet this minimum diameter to not interfere with the belt. For this example, a good slot diameter would be 15mm to allow some clearance\n",
    "\n"
   ]
  },
  {
   "cell_type": "markdown",
   "metadata": {},
   "source": [
    "## Cantilever Beam Deflection\n",
    "\n",
    "To ensure that the vertical square tubes are suitable for the vertical beams of the printer, a basic assessment of bending displacement is undertaken.\n",
    "\n",
    "The moment of inertia serves as a measure of an object's resistance to changes in rotational motion. For a square, the moment of inertia about its centroidal axis is given by:\n",
    "\n",
    "$$I_{square} = \\frac{b^4}{12}$$\n",
    "\n",
    "where $b$ represents the length of a side.\n",
    "\n",
    "In the case of a hollow square tube, the total moment of inertia is calculated by subtracting the moment of inertia of the inner wall from that of the outer wall:\n",
    "\n",
    "$$b^4 = b_{\\text{outer}}^4 - b_{\\text{inner}}^4$$\n",
    "\n",
    "$$I_{\\text{square tube}} = \\frac{b_{\\text{outer}}^4 - b_{\\text{inner}}^4}{12}$$\n",
    "\n",
    "By applying a point load to the end of the cantilever beam in a simulation, the resulting displacement can be calculated using the formula:\n",
    "\n",
    "$$\\delta = \\frac{F L^3}{3 E I}$$\n",
    "\n",
    "where $F$ represents the applied force, $L$ denotes the length of the beam, and $E$ is Young's Modulus.\n"
   ]
  },
  {
   "cell_type": "code",
   "execution_count": 5,
   "metadata": {},
   "outputs": [
    {
     "name": "stdout",
     "output_type": "stream",
     "text": [
      "8.817e-08 m^4\n",
      "1.21 mm\n"
     ]
    }
   ],
   "source": [
    "# Specs of the tube used:\n",
    "b_outer = 1.5 * 0.0254              # in -> m\n",
    "thickness = 0.12 * 0.0254           # in -> m\n",
    "E_square_tube = 200e9               # Pa\n",
    "\n",
    "L = 0.400                           # m\n",
    "F = 1000                            # N\n",
    "\n",
    "b_inner = b_outer - 2 * thickness\n",
    "I_square_tube = (b_outer**4 - b_inner**4) / 12\n",
    "\n",
    "delta_square_tube = (F * L**3) / (3.0 * E_square_tube * I_square_tube)\n",
    "\n",
    "print(\"{:.3e}\".format(I_square_tube), 'm^4')        # m^4\n",
    "print(round(delta_square_tube * 1000, 3), 'mm')     # mm"
   ]
  },
  {
   "cell_type": "code",
   "execution_count": 6,
   "metadata": {},
   "outputs": [
    {
     "name": "stdout",
     "output_type": "stream",
     "text": [
      "1.379e-07 m^4\n",
      "2.246 mm\n"
     ]
    }
   ],
   "source": [
    "# Comparison to 4040 Aluminum Extrusion of the same length\n",
    "E_extrusion = 68.9e9                # Pa\n",
    "I_extrusion = 13.787e-8             # m^4\n",
    "\n",
    "delta_extrusion = (F * L**3) / (3.0 * E_extrusion * I_extrusion)\n",
    "\n",
    "print(\"{:.3e}\".format(I_extrusion), 'm^4')          # m^4\n",
    "print(round(delta_extrusion * 1000, 3), 'mm')       # mm"
   ]
  },
  {
   "cell_type": "markdown",
   "metadata": {},
   "source": [
    "Results show that the steel square tube outperforms the aluminum extrusion in deflection resistance.\n",
    "\n",
    "Additionally, these findings illustrate a non-ideal representation of cantilever beam behavior. In an ideal scenario, we would consider a simply supported beam, anchored at both ends. This aspect will be further investigated to assess the potential impact of temperature gradients between the top and bottom of the chamber on beam perpendicularity, potentially leading to binding issues in the linear rails."
   ]
  },
  {
   "cell_type": "markdown",
   "metadata": {},
   "source": [
    "For the case of a simply supported beam, the displacement is given by:\n",
    "\n",
    "$$ \\delta_{ss} = \\frac{F L^3}{48 E I}$$"
   ]
  },
  {
   "cell_type": "code",
   "execution_count": 7,
   "metadata": {},
   "outputs": [
    {
     "name": "stdout",
     "output_type": "stream",
     "text": [
      "0.076 mm\n"
     ]
    }
   ],
   "source": [
    "delta_ss = (F * L**3) / (48.0 * E_square_tube * I_square_tube)\n",
    "print(round(delta_ss * 1000, 3), 'mm')       # mm"
   ]
  },
  {
   "cell_type": "markdown",
   "metadata": {},
   "source": [
    "As exercise, a plot of varying lengths was made to demonstrate the nonlinearity of total length's effect on displacement."
   ]
  },
  {
   "cell_type": "code",
   "execution_count": 8,
   "metadata": {},
   "outputs": [
    {
     "data": {
      "image/png": "[encoded data removed]",
      "text/plain": [
       "<Figure size 640x480 with 1 Axes>"
      ]
     },
     "metadata": {},
     "output_type": "display_data"
    }
   ],
   "source": [
    "# Varying the length\n",
    "L_varying = np.linspace(0, 0.6, num=100)      # m\n",
    "L_varying_mm = L_varying * 1000                     # mm\n",
    "\n",
    "delta_square_tube = (F * L_varying**3) / (3.0 * E_square_tube * I_square_tube) * 1000       # mm\n",
    "delta_extrusion = (F * L_varying**3) / (3.0 * E_extrusion * I_extrusion) * 1000             # mm\n",
    "delta_ss = (F * L_varying**3) / (48.0 * E_square_tube * I_square_tube) * 1000               # mm\n",
    "\n",
    "\n",
    "\n",
    "plt.plot(L_varying_mm, delta_square_tube, label='Square Tube (Cantilever)')\n",
    "plt.plot(L_varying_mm, delta_extrusion, label='Extrusion (Cantilever)')\n",
    "plt.plot(L_varying_mm, delta_ss, label='Square Tube (Simply Supported)')\n",
    "plt.xlabel('Total Length $L$ (mm)')\n",
    "plt.ylabel('Displacement $\\\\delta$ (mm)')\n",
    "plt.title('Cantilever Beam Displacement Based on Total Length L')\n",
    "plt.grid(True)\n",
    "plt.legend()\n",
    "plt.show()"
   ]
  },
  {
   "cell_type": "markdown",
   "metadata": {},
   "source": [
    "## Thermal Expansion "
   ]
  },
  {
   "cell_type": "markdown",
   "metadata": {},
   "source": [
    "A temperature difference between the top and bottom plate can cause the top plate to expand more than the bottom plate, potentially leading to misalignment and printing inaccuracies. To determine if this thermal expansion is negligible, we use the thermal expansion equation:\n",
    "\n",
    "$$\\Delta L = \\alpha L_0 \\Delta T$$\n",
    "\n",
    "\n",
    "The thermal expansion of a 1-D beam changes with respect to the thermal expansion coefficient $\\alpha$ , the inital length $L_0$, and the change in temperature $\\Delta T$. By calculating $\\Delta L$ of the top and bottom plate, we can assess whether the expansion is within acceptable limits for maintaining the printer's precision."
   ]
  },
  {
   "cell_type": "code",
   "execution_count": 9,
   "metadata": {},
   "outputs": [
    {
     "name": "stdout",
     "output_type": "stream",
     "text": [
      "0.115 mm\n"
     ]
    }
   ],
   "source": [
    "L_o = 0.5        # m\n",
    "alpha = 11.5e-6  # m/m-°C\n",
    "T_i = 25         # C\n",
    "T_f_top = 100    # C\n",
    "T_f_bot = 80     # C\n",
    "\n",
    "L_delta_top = L_o * alpha * (T_f_top - T_i) # m\n",
    "L_delta_bot = L_o * alpha * (T_f_bot - T_i) # m\n",
    "L_diff = L_delta_top - L_delta_bot\n",
    "\n",
    "print(round(L_diff*1000, 3), \"mm\")"
   ]
  },
  {
   "cell_type": "markdown",
   "metadata": {},
   "source": [
    "The length difference found is not as insignificant as predicted. However, it is still small and can be neglected if efforts are focused on reducing the temperature gradient between the plates. This concern will not be addressed unless issues arise later."
   ]
  }
 ],
 "metadata": {
  "kernelspec": {
   "display_name": ".venv",
   "language": "python",
   "name": "python3"
  },
  "language_info": {
   "codemirror_mode": {
    "name": "ipython",
    "version": 3
   },
   "file_extension": ".py",
   "mimetype": "text/x-python",
   "name": "python",
   "nbconvert_exporter": "python",
   "pygments_lexer": "ipython3",
   "version": "3.11.5"
  }
 },
 "nbformat": 4,
 "nbformat_minor": 2
}
