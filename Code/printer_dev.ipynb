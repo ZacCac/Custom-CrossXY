{
 "cells": [
  {
   "cell_type": "markdown",
   "metadata": {},
   "source": [
    "# Printer Development Documentation"
   ]
  },
  {
   "cell_type": "code",
   "execution_count": 3,
   "metadata": {},
   "outputs": [],
   "source": [
    "import math"
   ]
  },
  {
   "cell_type": "markdown",
   "metadata": {},
   "source": [
    "### Pitch Diameter Calculations\n",
    "\n",
    "To find the path of a belt around pulleys, we need to calculate the pitch diameter (PD) of the belt for an accurate CAD representation.\n",
    "\n",
    "The equation for pitch diameter is as follows: $$ PD = \\frac{pitch \\ \\cdot \\ numTeeth}{\\pi} $$\n",
    "\n",
    "where pitch is the distance between the teeth of the belt, and numTeeth is the amount of teeth on the pulley.\n",
    "\n"
   ]
  },
  {
   "cell_type": "markdown",
   "metadata": {},
   "source": [
    "\n",
    "<img src=\"images/belt_dimensions.jpg\" alt=\"Belt Dimensions\" width=\"400\">\n",
    "\n",
    "For this use case, I am using 2GT-GT3 Belts. The dimensions of the belt can be found in the table above.\n",
    "\n",
    "In addition, a 20 tooth pulley is used. Using the formula above, the PD can be calculated.\n"
   ]
  },
  {
   "cell_type": "code",
   "execution_count": 5,
   "metadata": {},
   "outputs": [
    {
     "name": "stdout",
     "output_type": "stream",
     "text": [
      "12.732395447351628\n"
     ]
    }
   ],
   "source": [
    "numTeeth = 20\n",
    "pitch = 2       # mm\n",
    "\n",
    "PD = pitch * numTeeth / math.pi\n",
    "print(PD)"
   ]
  },
  {
   "cell_type": "markdown",
   "metadata": {},
   "source": [
    "Since the table does not present values for the distances to the teeth and outer edge based on the PD, they are calculated below:"
   ]
  },
  {
   "cell_type": "code",
   "execution_count": 6,
   "metadata": {},
   "outputs": [
    {
     "name": "stdout",
     "output_type": "stream",
     "text": [
      "1.004\n",
      "0.376\n"
     ]
    }
   ],
   "source": [
    "PLD = 0.254\n",
    "i = 0.63\n",
    "h = 0.75\n",
    "\n",
    "belt_teeth_distance = PLD + h\n",
    "outer_distance = i - PLD\n",
    "\n",
    "print(belt_teeth_distance)\n",
    "print(outer_distance)"
   ]
  }
 ],
 "metadata": {
  "kernelspec": {
   "display_name": ".venv",
   "language": "python",
   "name": "python3"
  },
  "language_info": {
   "codemirror_mode": {
    "name": "ipython",
    "version": 3
   },
   "file_extension": ".py",
   "mimetype": "text/x-python",
   "name": "python",
   "nbconvert_exporter": "python",
   "pygments_lexer": "ipython3",
   "version": "3.11.9"
  }
 },
 "nbformat": 4,
 "nbformat_minor": 2
}
